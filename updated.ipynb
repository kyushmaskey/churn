{
  "cells": [
    {
      "cell_type": "code",
      "execution_count": 136,
      "metadata": {
        "id": "svAQkWLEGMeB"
      },
      "outputs": [],
      "source": [
        "import pandas as pd\n",
        "import tensorflow as tf\n",
        "from sklearn.preprocessing import MinMaxScaler\n",
        "from sklearn.model_selection import train_test_split\n",
        "import numpy as np\n",
        "import seaborn as sns\n",
        "import math\n",
        "from sklearn.metrics import f1_score"
      ]
    },
    {
      "cell_type": "code",
      "execution_count": 137,
      "metadata": {
        "id": "DBjsM_RJGgJu"
      },
      "outputs": [],
      "source": [
        "feature = pd.read_csv('clean_data.csv')\n",
        "score = pd.read_csv('score.csv')\n",
        "test = pd.read_csv('test_clean_data.csv')"
      ]
    },
    {
      "cell_type": "code",
      "execution_count": 138,
      "metadata": {},
      "outputs": [
        {
          "data": {
            "text/html": [
              "<div>\n",
              "<style scoped>\n",
              "    .dataframe tbody tr th:only-of-type {\n",
              "        vertical-align: middle;\n",
              "    }\n",
              "\n",
              "    .dataframe tbody tr th {\n",
              "        vertical-align: top;\n",
              "    }\n",
              "\n",
              "    .dataframe thead th {\n",
              "        text-align: right;\n",
              "    }\n",
              "</style>\n",
              "<table border=\"1\" class=\"dataframe\">\n",
              "  <thead>\n",
              "    <tr style=\"text-align: right;\">\n",
              "      <th></th>\n",
              "      <th>age</th>\n",
              "      <th>days_since_last_login</th>\n",
              "      <th>avg_time_spent</th>\n",
              "      <th>avg_transaction_value</th>\n",
              "      <th>points_in_wallet</th>\n",
              "      <th>gender_code</th>\n",
              "      <th>region_category_code</th>\n",
              "      <th>membership_category_code</th>\n",
              "      <th>year</th>\n",
              "      <th>joined_through_referral_code</th>\n",
              "      <th>preferred_offer_types_code</th>\n",
              "      <th>medium_of_operation_code</th>\n",
              "      <th>internet_option_code</th>\n",
              "      <th>used_special_discount_code</th>\n",
              "      <th>offer_application_preference_code</th>\n",
              "      <th>past_complaint_code</th>\n",
              "      <th>complaint_status_code</th>\n",
              "      <th>feedback_code</th>\n",
              "    </tr>\n",
              "  </thead>\n",
              "  <tbody>\n",
              "    <tr>\n",
              "      <th>0</th>\n",
              "      <td>18</td>\n",
              "      <td>17</td>\n",
              "      <td>300.63</td>\n",
              "      <td>53005.25</td>\n",
              "      <td>781.75</td>\n",
              "      <td>0</td>\n",
              "      <td>2</td>\n",
              "      <td>3</td>\n",
              "      <td>4</td>\n",
              "      <td>1</td>\n",
              "      <td>1</td>\n",
              "      <td>0</td>\n",
              "      <td>2</td>\n",
              "      <td>1</td>\n",
              "      <td>1</td>\n",
              "      <td>0</td>\n",
              "      <td>1</td>\n",
              "      <td>4</td>\n",
              "    </tr>\n",
              "    <tr>\n",
              "      <th>1</th>\n",
              "      <td>32</td>\n",
              "      <td>16</td>\n",
              "      <td>306.34</td>\n",
              "      <td>12838.38</td>\n",
              "      <td>641.22</td>\n",
              "      <td>0</td>\n",
              "      <td>0</td>\n",
              "      <td>4</td>\n",
              "      <td>4</td>\n",
              "      <td>0</td>\n",
              "      <td>1</td>\n",
              "      <td>2</td>\n",
              "      <td>1</td>\n",
              "      <td>1</td>\n",
              "      <td>0</td>\n",
              "      <td>1</td>\n",
              "      <td>2</td>\n",
              "      <td>5</td>\n",
              "    </tr>\n",
              "    <tr>\n",
              "      <th>2</th>\n",
              "      <td>44</td>\n",
              "      <td>14</td>\n",
              "      <td>516.16</td>\n",
              "      <td>21027.00</td>\n",
              "      <td>500.69</td>\n",
              "      <td>0</td>\n",
              "      <td>1</td>\n",
              "      <td>2</td>\n",
              "      <td>5</td>\n",
              "      <td>2</td>\n",
              "      <td>1</td>\n",
              "      <td>2</td>\n",
              "      <td>2</td>\n",
              "      <td>0</td>\n",
              "      <td>1</td>\n",
              "      <td>1</td>\n",
              "      <td>3</td>\n",
              "      <td>3</td>\n",
              "    </tr>\n",
              "    <tr>\n",
              "      <th>3</th>\n",
              "      <td>37</td>\n",
              "      <td>11</td>\n",
              "      <td>53.27</td>\n",
              "      <td>25239.56</td>\n",
              "      <td>567.66</td>\n",
              "      <td>1</td>\n",
              "      <td>0</td>\n",
              "      <td>2</td>\n",
              "      <td>5</td>\n",
              "      <td>2</td>\n",
              "      <td>1</td>\n",
              "      <td>2</td>\n",
              "      <td>1</td>\n",
              "      <td>0</td>\n",
              "      <td>1</td>\n",
              "      <td>1</td>\n",
              "      <td>4</td>\n",
              "      <td>3</td>\n",
              "    </tr>\n",
              "    <tr>\n",
              "      <th>4</th>\n",
              "      <td>31</td>\n",
              "      <td>20</td>\n",
              "      <td>113.13</td>\n",
              "      <td>24483.66</td>\n",
              "      <td>663.06</td>\n",
              "      <td>0</td>\n",
              "      <td>0</td>\n",
              "      <td>2</td>\n",
              "      <td>4</td>\n",
              "      <td>1</td>\n",
              "      <td>0</td>\n",
              "      <td>3</td>\n",
              "      <td>1</td>\n",
              "      <td>0</td>\n",
              "      <td>1</td>\n",
              "      <td>1</td>\n",
              "      <td>2</td>\n",
              "      <td>3</td>\n",
              "    </tr>\n",
              "  </tbody>\n",
              "</table>\n",
              "</div>"
            ],
            "text/plain": [
              "   age  days_since_last_login  avg_time_spent  avg_transaction_value  \\\n",
              "0   18                     17          300.63               53005.25   \n",
              "1   32                     16          306.34               12838.38   \n",
              "2   44                     14          516.16               21027.00   \n",
              "3   37                     11           53.27               25239.56   \n",
              "4   31                     20          113.13               24483.66   \n",
              "\n",
              "   points_in_wallet  gender_code  region_category_code  \\\n",
              "0            781.75            0                     2   \n",
              "1            641.22            0                     0   \n",
              "2            500.69            0                     1   \n",
              "3            567.66            1                     0   \n",
              "4            663.06            0                     0   \n",
              "\n",
              "   membership_category_code  year  joined_through_referral_code  \\\n",
              "0                         3     4                             1   \n",
              "1                         4     4                             0   \n",
              "2                         2     5                             2   \n",
              "3                         2     5                             2   \n",
              "4                         2     4                             1   \n",
              "\n",
              "   preferred_offer_types_code  medium_of_operation_code  internet_option_code  \\\n",
              "0                           1                         0                     2   \n",
              "1                           1                         2                     1   \n",
              "2                           1                         2                     2   \n",
              "3                           1                         2                     1   \n",
              "4                           0                         3                     1   \n",
              "\n",
              "   used_special_discount_code  offer_application_preference_code  \\\n",
              "0                           1                                  1   \n",
              "1                           1                                  0   \n",
              "2                           0                                  1   \n",
              "3                           0                                  1   \n",
              "4                           0                                  1   \n",
              "\n",
              "   past_complaint_code  complaint_status_code  feedback_code  \n",
              "0                    0                      1              4  \n",
              "1                    1                      2              5  \n",
              "2                    1                      3              3  \n",
              "3                    1                      4              3  \n",
              "4                    1                      2              3  "
            ]
          },
          "execution_count": 138,
          "metadata": {},
          "output_type": "execute_result"
        }
      ],
      "source": [
        "# print(score)\n",
        "feature.head()"
      ]
    },
    {
      "cell_type": "code",
      "execution_count": 139,
      "metadata": {},
      "outputs": [
        {
          "data": {
            "text/plain": [
              "age                                  False\n",
              "days_since_last_login                False\n",
              "avg_time_spent                       False\n",
              "avg_transaction_value                False\n",
              "points_in_wallet                     False\n",
              "gender_code                          False\n",
              "region_category_code                 False\n",
              "membership_category_code             False\n",
              "year                                 False\n",
              "joined_through_referral_code         False\n",
              "preferred_offer_types_code           False\n",
              "medium_of_operation_code             False\n",
              "internet_option_code                 False\n",
              "used_special_discount_code           False\n",
              "offer_application_preference_code    False\n",
              "past_complaint_code                  False\n",
              "complaint_status_code                False\n",
              "feedback_code                        False\n",
              "dtype: bool"
            ]
          },
          "execution_count": 139,
          "metadata": {},
          "output_type": "execute_result"
        }
      ],
      "source": [
        "feature.isnull().any()"
      ]
    },
    {
      "cell_type": "code",
      "execution_count": 140,
      "metadata": {
        "colab": {
          "base_uri": "https://localhost:8080/"
        },
        "id": "0uOWV8abGsuW",
        "outputId": "91347c3d-749f-46e9-d03c-bab5feb5cfac"
      },
      "outputs": [
        {
          "data": {
            "text/plain": [
              "MinMaxScaler()"
            ]
          },
          "execution_count": 140,
          "metadata": {},
          "output_type": "execute_result"
        }
      ],
      "source": [
        "feature_scaler = MinMaxScaler()\n",
        "score_scaler = MinMaxScaler(feature_range=(0,5))\n",
        "feature_scaler.fit(feature)\n",
        "# score_scaler.fit(score)"
      ]
    },
    {
      "cell_type": "code",
      "execution_count": 141,
      "metadata": {
        "id": "JFc2IHnkG835"
      },
      "outputs": [],
      "source": [
        "scaled_feature = feature_scaler.transform(feature)\n",
        "# scaled_score = score_scaler.transform(score)\n",
        "scaled_test = feature_scaler.transform(test)"
      ]
    },
    {
      "cell_type": "code",
      "execution_count": 142,
      "metadata": {},
      "outputs": [
        {
          "data": {
            "text/html": [
              "<div>\n",
              "<style scoped>\n",
              "    .dataframe tbody tr th:only-of-type {\n",
              "        vertical-align: middle;\n",
              "    }\n",
              "\n",
              "    .dataframe tbody tr th {\n",
              "        vertical-align: top;\n",
              "    }\n",
              "\n",
              "    .dataframe thead th {\n",
              "        text-align: right;\n",
              "    }\n",
              "</style>\n",
              "<table border=\"1\" class=\"dataframe\">\n",
              "  <thead>\n",
              "    <tr style=\"text-align: right;\">\n",
              "      <th></th>\n",
              "      <th>churn_risk_score</th>\n",
              "    </tr>\n",
              "  </thead>\n",
              "  <tbody>\n",
              "    <tr>\n",
              "      <th>0</th>\n",
              "      <td>2</td>\n",
              "    </tr>\n",
              "    <tr>\n",
              "      <th>1</th>\n",
              "      <td>1</td>\n",
              "    </tr>\n",
              "    <tr>\n",
              "      <th>2</th>\n",
              "      <td>5</td>\n",
              "    </tr>\n",
              "    <tr>\n",
              "      <th>3</th>\n",
              "      <td>5</td>\n",
              "    </tr>\n",
              "    <tr>\n",
              "      <th>4</th>\n",
              "      <td>5</td>\n",
              "    </tr>\n",
              "    <tr>\n",
              "      <th>...</th>\n",
              "      <td>...</td>\n",
              "    </tr>\n",
              "    <tr>\n",
              "      <th>31320</th>\n",
              "      <td>2</td>\n",
              "    </tr>\n",
              "    <tr>\n",
              "      <th>31321</th>\n",
              "      <td>3</td>\n",
              "    </tr>\n",
              "    <tr>\n",
              "      <th>31322</th>\n",
              "      <td>5</td>\n",
              "    </tr>\n",
              "    <tr>\n",
              "      <th>31323</th>\n",
              "      <td>3</td>\n",
              "    </tr>\n",
              "    <tr>\n",
              "      <th>31324</th>\n",
              "      <td>2</td>\n",
              "    </tr>\n",
              "  </tbody>\n",
              "</table>\n",
              "<p>31325 rows × 1 columns</p>\n",
              "</div>"
            ],
            "text/plain": [
              "       churn_risk_score\n",
              "0                     2\n",
              "1                     1\n",
              "2                     5\n",
              "3                     5\n",
              "4                     5\n",
              "...                 ...\n",
              "31320                 2\n",
              "31321                 3\n",
              "31322                 5\n",
              "31323                 3\n",
              "31324                 2\n",
              "\n",
              "[31325 rows x 1 columns]"
            ]
          },
          "execution_count": 142,
          "metadata": {},
          "output_type": "execute_result"
        }
      ],
      "source": [
        "score"
      ]
    },
    {
      "cell_type": "code",
      "execution_count": 143,
      "metadata": {},
      "outputs": [
        {
          "data": {
            "text/plain": [
              "(array([[0.14814815, 0.32653061, 0.51485949, ..., 0.        , 0.25      ,\n",
              "         0.5       ],\n",
              "        [0.40740741, 0.30612245, 0.51580334, ..., 1.        , 0.5       ,\n",
              "         0.625     ],\n",
              "        [0.62962963, 0.26530612, 0.55048613, ..., 1.        , 0.75      ,\n",
              "         0.375     ],\n",
              "        ...,\n",
              "        [0.35185185, 0.24489796, 0.35968563, ..., 0.        , 0.25      ,\n",
              "         0.125     ],\n",
              "        [0.7962963 , 0.28571429, 0.54494039, ..., 0.        , 0.25      ,\n",
              "         0.        ],\n",
              "        [0.46296296, 0.28571429, 0.4782543 , ..., 0.        , 0.25      ,\n",
              "         0.625     ]]),\n",
              " (31325, 18))"
            ]
          },
          "execution_count": 143,
          "metadata": {},
          "output_type": "execute_result"
        }
      ],
      "source": [
        "scaled_feature,scaled_feature.shape"
      ]
    },
    {
      "cell_type": "code",
      "execution_count": 144,
      "metadata": {
        "id": "oARYj6hIHA8l"
      },
      "outputs": [],
      "source": [
        "# scaled_feature = scaled_feature.reshape(len(scaled_feature),1,18)\n",
        "# scaled_score = scaled_score.reshape(len(scaled_score),1)\n",
        "# scaled_test = scaled_test.reshape(len(scaled_test),1,18)"
      ]
    },
    {
      "cell_type": "code",
      "execution_count": 145,
      "metadata": {
        "colab": {
          "base_uri": "https://localhost:8080/"
        },
        "id": "XHFtj4FAIA2B",
        "outputId": "b7422fe8-ab7d-41ce-a900-8a52353a13d1"
      },
      "outputs": [
        {
          "name": "stdout",
          "output_type": "stream",
          "text": [
            "(31325, 18)\n",
            "(16827, 18)\n"
          ]
        }
      ],
      "source": [
        "print(scaled_feature.shape)\n",
        "# print(scaled_score.shape)\n",
        "print(scaled_test.shape)"
      ]
    },
    {
      "cell_type": "code",
      "execution_count": 146,
      "metadata": {
        "id": "AjLW7Um7IDuI"
      },
      "outputs": [],
      "source": [
        "y = score.values\n",
        "X_train, X_val, y_train, y_val = train_test_split(scaled_feature, y, test_size=0.2, random_state=42,stratify=y)"
      ]
    },
    {
      "cell_type": "code",
      "execution_count": 147,
      "metadata": {},
      "outputs": [
        {
          "data": {
            "text/plain": [
              "(array([[0.87037037, 0.12244898, 0.51934568, ..., 0.        , 0.25      ,\n",
              "         0.25      ],\n",
              "        [0.57407407, 0.12244898, 0.53234304, ..., 1.        , 0.        ,\n",
              "         0.875     ],\n",
              "        [0.74074074, 0.32653061, 0.47086714, ..., 0.        , 0.25      ,\n",
              "         0.        ],\n",
              "        ...,\n",
              "        [0.46296296, 0.18367347, 0.50937491, ..., 0.        , 0.25      ,\n",
              "         0.        ],\n",
              "        [0.44444444, 0.34693878, 0.52366325, ..., 0.        , 0.25      ,\n",
              "         0.125     ],\n",
              "        [0.22222222, 0.18367347, 0.47715672, ..., 1.        , 0.        ,\n",
              "         0.125     ]]),\n",
              " array([[5],\n",
              "        [4],\n",
              "        [4],\n",
              "        ...,\n",
              "        [4],\n",
              "        [4],\n",
              "        [4]], dtype=int64))"
            ]
          },
          "execution_count": 147,
          "metadata": {},
          "output_type": "execute_result"
        }
      ],
      "source": [
        "X_train,y_train"
      ]
    },
    {
      "cell_type": "code",
      "execution_count": 148,
      "metadata": {},
      "outputs": [
        {
          "data": {
            "text/plain": [
              "array([[0., 0., 0., 1., 0., 0.],\n",
              "       [0., 0., 0., 1., 0., 0.],\n",
              "       [0., 0., 0., 1., 0., 0.],\n",
              "       ...,\n",
              "       [0., 0., 0., 0., 1., 0.],\n",
              "       [0., 0., 1., 0., 0., 0.],\n",
              "       [0., 0., 0., 0., 1., 0.]], dtype=float32)"
            ]
          },
          "execution_count": 148,
          "metadata": {},
          "output_type": "execute_result"
        }
      ],
      "source": [
        "## endoding the y data\n",
        "\n",
        "train_y = tf.keras.utils.to_categorical(y_train)\n",
        "val_y = tf.keras.utils.to_categorical(y_val)\n",
        "val_y"
      ]
    },
    {
      "cell_type": "code",
      "execution_count": 149,
      "metadata": {
        "colab": {
          "base_uri": "https://localhost:8080/"
        },
        "id": "7JSpOeSOIG9_",
        "outputId": "20f12c61-46e4-4f83-f8b7-8d0f5a031c78"
      },
      "outputs": [
        {
          "name": "stdout",
          "output_type": "stream",
          "text": [
            "(25060, 18)\n",
            "(25060, 1)\n",
            "(6265, 18)\n",
            "(6265, 1)\n"
          ]
        }
      ],
      "source": [
        "print(X_train.shape)\n",
        "print(y_train.shape)\n",
        "print(X_val.shape)\n",
        "print(y_val.shape)"
      ]
    },
    {
      "cell_type": "code",
      "execution_count": 150,
      "metadata": {},
      "outputs": [],
      "source": [
        "# X_train[0].reshape(1,1,18)\n",
        "## defining the generator\n",
        "class generator(tf.keras.utils.Sequence):\n",
        "    \n",
        "    def __init__(self,batch_size,train_data,y_train):\n",
        "        self.train = train_data\n",
        "        self.y_train = y_train\n",
        "        self.batch_size = batch_size\n",
        "        self.indexes = np.arange(len(train_data))\n",
        "\n",
        "    def __getitem__(self,i):\n",
        "        start  = i*self.batch_size\n",
        "        end = (i+1)* self.batch_size\n",
        "        train = []\n",
        "        y = []\n",
        "        for j in range(start,end):\n",
        "            # t_x = self.train[j].reshape(1,18)\n",
        "            train.append(self.train[j])\n",
        "            y.append(self.y_train[j])\n",
        "\n",
        "        return np.array(train),np.array(y)\n",
        "\n",
        "    def __len__(self):\n",
        "        return len(self.indexes) // self.batch_size\n"
      ]
    },
    {
      "cell_type": "code",
      "execution_count": 151,
      "metadata": {},
      "outputs": [],
      "source": [
        "x_train = generator(64,X_train,train_y)\n",
        "val_data = generator(64,X_val,val_y)"
      ]
    },
    {
      "cell_type": "code",
      "execution_count": 152,
      "metadata": {},
      "outputs": [
        {
          "name": "stdout",
          "output_type": "stream",
          "text": [
            "(64, 18) (64, 6)\n"
          ]
        },
        {
          "data": {
            "text/plain": [
              "array([[3],\n",
              "       [3],\n",
              "       [3],\n",
              "       ...,\n",
              "       [4],\n",
              "       [2],\n",
              "       [4]], dtype=int64)"
            ]
          },
          "execution_count": 152,
          "metadata": {},
          "output_type": "execute_result"
        }
      ],
      "source": [
        "for j in x_train:\n",
        "    print(j[0].shape,j[1].shape)\n",
        "    break\n",
        "\n",
        "y_val"
      ]
    },
    {
      "cell_type": "code",
      "execution_count": 153,
      "metadata": {},
      "outputs": [],
      "source": [
        "\n",
        "import keras\n",
        "from tensorflow.keras.models import Model, load_model"
      ]
    },
    {
      "cell_type": "code",
      "execution_count": 154,
      "metadata": {
        "id": "V-DS7804II4o"
      },
      "outputs": [
        {
          "name": "stdout",
          "output_type": "stream",
          "text": [
            "Model: \"model_5\"\n",
            "_________________________________________________________________\n",
            "Layer (type)                 Output Shape              Param #   \n",
            "=================================================================\n",
            "Total params: 48,294\n",
            "Trainable params: 48,294\n",
            "Non-trainable params: 0\n",
            "_________________________________________________________________\n"
          ]
        }
      ],
      "source": [
        "inputs = keras.layers.Input((18,1))\n",
        "x = keras.layers.Flatten()(inputs)\n",
        "x = keras.layers.Dense(256,activation=\"relu\")(x)\n",
        "x = keras.layers.Dense(128,activation=\"relu\")(x)\n",
        "x = keras.layers.Dense(64,activation=\"relu\")(x)\n",
        "x = keras.layers.Dense(32,activation=\"relu\")(x)\n",
        "output = keras.layers.Dense(6,activation=\"softmax\")(x)\n",
        "model = Model(inputs=inputs,outputs=output)\n",
        "\n",
        "model.summary()\n",
        "\n",
        "\n"
      ]
    },
    {
      "cell_type": "code",
      "execution_count": 155,
      "metadata": {
        "id": "-OmTs6iTILvF"
      },
      "outputs": [],
      "source": [
        "model.compile(loss=\"mse\",optimizer=\"adam\",metrics=[\"accuracy\"])"
      ]
    },
    {
      "cell_type": "code",
      "execution_count": 156,
      "metadata": {
        "colab": {
          "base_uri": "https://localhost:8080/"
        },
        "id": "s7c9GW7gIOFG",
        "outputId": "5f82c803-dc7c-4ebc-b00a-e27d7f815dd4"
      },
      "outputs": [],
      "source": [
        "# model.summary()"
      ]
    },
    {
      "cell_type": "code",
      "execution_count": 157,
      "metadata": {
        "colab": {
          "base_uri": "https://localhost:8080/"
        },
        "id": "mjBN7dWSIQSF",
        "outputId": "93e7e738-80bc-45be-8d3f-bd2830a292a2"
      },
      "outputs": [
        {
          "name": "stdout",
          "output_type": "stream",
          "text": [
            "Epoch 1/30\n"
          ]
        },
        {
          "name": "stderr",
          "output_type": "stream",
          "text": [
            "C:\\Users\\kyush\\AppData\\Roaming\\Python\\Python39\\site-packages\\tensorflow\\python\\keras\\engine\\training.py:1940: UserWarning: `Model.fit_generator` is deprecated and will be removed in a future version. Please use `Model.fit`, which supports generators.\n",
            "  warnings.warn('`Model.fit_generator` is deprecated and '\n"
          ]
        },
        {
          "name": "stdout",
          "output_type": "stream",
          "text": [
            "391/391 [==============================] - 1s 3ms/step - loss: 0.1089 - accuracy: 0.4571 - val_loss: 0.1000 - val_accuracy: 0.5190\n",
            "Epoch 2/30\n",
            "391/391 [==============================] - 1s 3ms/step - loss: 0.0933 - accuracy: 0.5646 - val_loss: 0.0881 - val_accuracy: 0.58390s - loss: 0\n",
            "Epoch 3/30\n",
            "391/391 [==============================] - 1s 3ms/step - loss: 0.0843 - accuracy: 0.6012 - val_loss: 0.0835 - val_accuracy: 0.6047\n",
            "Epoch 4/30\n",
            "391/391 [==============================] - 1s 3ms/step - loss: 0.0816 - accuracy: 0.6105 - val_loss: 0.0809 - val_accuracy: 0.5952\n",
            "Epoch 5/30\n",
            "391/391 [==============================] - 1s 2ms/step - loss: 0.0799 - accuracy: 0.6154 - val_loss: 0.0817 - val_accuracy: 0.6136\n",
            "Epoch 6/30\n",
            "391/391 [==============================] - 1s 3ms/step - loss: 0.0787 - accuracy: 0.6215 - val_loss: 0.0778 - val_accuracy: 0.6258\n",
            "Epoch 7/30\n",
            "391/391 [==============================] - 1s 3ms/step - loss: 0.0771 - accuracy: 0.6313 - val_loss: 0.0772 - val_accuracy: 0.6339\n",
            "Epoch 8/30\n",
            "391/391 [==============================] - 1s 3ms/step - loss: 0.0759 - accuracy: 0.6399 - val_loss: 0.0753 - val_accuracy: 0.6421- accuracy: 0.64\n",
            "Epoch 9/30\n",
            "391/391 [==============================] - 1s 3ms/step - loss: 0.0751 - accuracy: 0.6444 - val_loss: 0.0810 - val_accuracy: 0.6182\n",
            "Epoch 10/30\n",
            "391/391 [==============================] - 1s 2ms/step - loss: 0.0745 - accuracy: 0.6483 - val_loss: 0.0749 - val_accuracy: 0.6427\n",
            "Epoch 11/30\n",
            "391/391 [==============================] - 1s 2ms/step - loss: 0.0739 - accuracy: 0.6506 - val_loss: 0.0760 - val_accuracy: 0.6395\n",
            "Epoch 12/30\n",
            "391/391 [==============================] - 1s 3ms/step - loss: 0.0736 - accuracy: 0.6516 - val_loss: 0.0753 - val_accuracy: 0.6411\n",
            "Epoch 13/30\n",
            "391/391 [==============================] - 1s 3ms/step - loss: 0.0730 - accuracy: 0.6567 - val_loss: 0.0746 - val_accuracy: 0.6582\n",
            "Epoch 14/30\n",
            "391/391 [==============================] - 1s 2ms/step - loss: 0.0727 - accuracy: 0.6560 - val_loss: 0.0736 - val_accuracy: 0.6490\n",
            "Epoch 15/30\n",
            "391/391 [==============================] - 1s 2ms/step - loss: 0.0725 - accuracy: 0.6572 - val_loss: 0.0727 - val_accuracy: 0.6542\n",
            "Epoch 16/30\n",
            "391/391 [==============================] - 1s 2ms/step - loss: 0.0720 - accuracy: 0.6643 - val_loss: 0.0722 - val_accuracy: 0.6641\n",
            "Epoch 17/30\n",
            "391/391 [==============================] - 1s 2ms/step - loss: 0.0717 - accuracy: 0.6623 - val_loss: 0.0743 - val_accuracy: 0.6419\n",
            "Epoch 18/30\n",
            "391/391 [==============================] - 1s 2ms/step - loss: 0.0699 - accuracy: 0.6692 - val_loss: 0.0731 - val_accuracy: 0.6496\n",
            "Epoch 19/30\n",
            "391/391 [==============================] - 1s 2ms/step - loss: 0.0688 - accuracy: 0.6762 - val_loss: 0.0691 - val_accuracy: 0.6664\n",
            "Epoch 20/30\n",
            "391/391 [==============================] - 1s 2ms/step - loss: 0.0680 - accuracy: 0.6769 - val_loss: 0.0706 - val_accuracy: 0.6677\n",
            "Epoch 21/30\n",
            "391/391 [==============================] - 1s 2ms/step - loss: 0.0676 - accuracy: 0.6820 - val_loss: 0.0701 - val_accuracy: 0.6585\n",
            "Epoch 22/30\n",
            "391/391 [==============================] - 1s 3ms/step - loss: 0.0675 - accuracy: 0.6795 - val_loss: 0.0686 - val_accuracy: 0.6696\n",
            "Epoch 23/30\n",
            "391/391 [==============================] - 1s 3ms/step - loss: 0.0670 - accuracy: 0.6849 - val_loss: 0.0690 - val_accuracy: 0.6725\n",
            "Epoch 24/30\n",
            "391/391 [==============================] - 1s 2ms/step - loss: 0.0668 - accuracy: 0.6863 - val_loss: 0.0688 - val_accuracy: 0.6749 - loss: 0.0669 - accuracy: \n",
            "Epoch 25/30\n",
            "391/391 [==============================] - 1s 2ms/step - loss: 0.0668 - accuracy: 0.6879 - val_loss: 0.0688 - val_accuracy: 0.6682oss: 0.0668 - accuracy: 0.\n",
            "Epoch 26/30\n",
            "391/391 [==============================] - 1s 2ms/step - loss: 0.0666 - accuracy: 0.6885 - val_loss: 0.0689 - val_accuracy: 0.6675\n",
            "Epoch 27/30\n",
            "391/391 [==============================] - 1s 3ms/step - loss: 0.0666 - accuracy: 0.6877 - val_loss: 0.0708 - val_accuracy: 0.6598\n",
            "Epoch 28/30\n",
            "391/391 [==============================] - 1s 3ms/step - loss: 0.0666 - accuracy: 0.6910 - val_loss: 0.0683 - val_accuracy: 0.6769\n",
            "Epoch 29/30\n",
            "391/391 [==============================] - 1s 2ms/step - loss: 0.0658 - accuracy: 0.6937 - val_loss: 0.0691 - val_accuracy: 0.6751\n",
            "Epoch 30/30\n",
            "391/391 [==============================] - 1s 2ms/step - loss: 0.0657 - accuracy: 0.6946 - val_loss: 0.0691 - val_accuracy: 0.6709\n"
          ]
        }
      ],
      "source": [
        "epochs = 30\n",
        "batch_size = 64\n",
        "step_per_epochs = X_train[0]//batch_size\n",
        "history = model.fit_generator(x_train,epochs=epochs,validation_data=val_data)"
      ]
    },
    {
      "cell_type": "code",
      "execution_count": 158,
      "metadata": {
        "colab": {
          "base_uri": "https://localhost:8080/",
          "height": 282
        },
        "id": "cMOES2ueITMO",
        "outputId": "44738080-9ce0-433b-be2a-3d5dfa0f5d98"
      },
      "outputs": [],
      "source": [
        "# sns.lineplot(data=history.history,x=np.arange(epochs),y='mse')\n",
        "# sns.lineplot(data=history.history,x=np.arange(epochs),y='val_mse')\n",
        "# sns.lineplot(data=history.history)"
      ]
    },
    {
      "cell_type": "code",
      "execution_count": 159,
      "metadata": {
        "colab": {
          "base_uri": "https://localhost:8080/"
        },
        "id": "DSqD4qnFJvFt",
        "outputId": "4c3daa44-30b1-4f7e-a14f-738d3b7b003e"
      },
      "outputs": [],
      "source": [
        "# model.evaluate(X_val,y_val)"
      ]
    },
    {
      "cell_type": "code",
      "execution_count": 160,
      "metadata": {},
      "outputs": [],
      "source": [
        "# model.predict(X_test).shape"
      ]
    },
    {
      "cell_type": "code",
      "execution_count": 161,
      "metadata": {},
      "outputs": [],
      "source": [
        "# y_val.shape"
      ]
    },
    {
      "cell_type": "code",
      "execution_count": null,
      "metadata": {},
      "outputs": [],
      "source": []
    },
    {
      "cell_type": "code",
      "execution_count": null,
      "metadata": {},
      "outputs": [],
      "source": []
    },
    {
      "cell_type": "code",
      "execution_count": null,
      "metadata": {
        "colab": {
          "base_uri": "https://localhost:8080/"
        },
        "id": "pzWBqz07JyU4",
        "outputId": "18cc0b42-1491-4946-b893-d0919b4f5f71"
      },
      "outputs": [],
      "source": []
    },
    {
      "cell_type": "code",
      "execution_count": null,
      "metadata": {},
      "outputs": [],
      "source": []
    },
    {
      "cell_type": "code",
      "execution_count": 162,
      "metadata": {
        "colab": {
          "base_uri": "https://localhost:8080/",
          "height": 282
        },
        "id": "hAalCkwWJ0mN",
        "outputId": "de16d728-69a7-4af9-ec47-969a89442301"
      },
      "outputs": [],
      "source": [
        "# sns.lineplot(data=d)"
      ]
    },
    {
      "cell_type": "code",
      "execution_count": 163,
      "metadata": {
        "colab": {
          "base_uri": "https://localhost:8080/"
        },
        "id": "LPjeS6PrJ3bw",
        "outputId": "da1667c4-135a-4aeb-d057-af8eb74b084f"
      },
      "outputs": [],
      "source": [
        "# model.predict(scaled_test[:10])\n",
        "\n"
      ]
    },
    {
      "cell_type": "code",
      "execution_count": 164,
      "metadata": {
        "colab": {
          "base_uri": "https://localhost:8080/"
        },
        "id": "OdVEkAGfJ7_9",
        "outputId": "bc493951-7b4f-4c22-ab17-5fc2b711bd7c"
      },
      "outputs": [],
      "source": [
        "# model.save('trained_model')"
      ]
    },
    {
      "cell_type": "code",
      "execution_count": 165,
      "metadata": {
        "id": "q0cNkP4RJ-uO"
      },
      "outputs": [],
      "source": [
        "input_data=[ 24,16,32.42,37953.61,614.71,1,0,1,5,2,2,2,0,1,0,1,4,2]"
      ]
    },
    {
      "cell_type": "code",
      "execution_count": 166,
      "metadata": {},
      "outputs": [],
      "source": [
        " input_data_as_numpy_array = np.asarray(input_data)\n"
      ]
    },
    {
      "cell_type": "code",
      "execution_count": 167,
      "metadata": {},
      "outputs": [],
      "source": [
        " input_data_reshaped =  input_data_as_numpy_array.reshape(1,-1)"
      ]
    },
    {
      "cell_type": "code",
      "execution_count": 168,
      "metadata": {},
      "outputs": [],
      "source": [
        " prediction = model.predict(scaled_test[:1])"
      ]
    },
    {
      "cell_type": "code",
      "execution_count": 169,
      "metadata": {},
      "outputs": [
        {
          "name": "stdout",
          "output_type": "stream",
          "text": [
            "[[2.2153567e-07 9.6203329e-04 4.6624511e-04 9.7717154e-01 1.8944187e-02\n",
            "  2.4558357e-03]]\n"
          ]
        }
      ],
      "source": [
        " print(prediction)"
      ]
    },
    {
      "cell_type": "code",
      "execution_count": 180,
      "metadata": {},
      "outputs": [
        {
          "name": "stdout",
          "output_type": "stream",
          "text": [
            "The customer will  churn\n"
          ]
        }
      ],
      "source": [
        "if(prediction.all()  >2.1 ):\n",
        "    print('The customer will not churn')\n",
        "else:\n",
        "    print('The customer will  churn')"
      ]
    },
    {
      "cell_type": "code",
      "execution_count": null,
      "metadata": {},
      "outputs": [],
      "source": []
    }
  ],
  "metadata": {
    "colab": {
      "name": "model.ipynb",
      "provenance": []
    },
    "kernelspec": {
      "display_name": "Python 3",
      "name": "python3"
    },
    "language_info": {
      "codemirror_mode": {
        "name": "ipython",
        "version": 3
      },
      "file_extension": ".py",
      "mimetype": "text/x-python",
      "name": "python",
      "nbconvert_exporter": "python",
      "pygments_lexer": "ipython3",
      "version": "3.9.1"
    }
  },
  "nbformat": 4,
  "nbformat_minor": 0
}
